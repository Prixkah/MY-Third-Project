{
 "cells": [
  {
   "cell_type": "code",
   "execution_count": 2,
   "id": "48e1e2f2",
   "metadata": {},
   "outputs": [
    {
     "name": "stdout",
     "output_type": "stream",
     "text": [
      "36\n"
     ]
    }
   ],
   "source": [
    "x=2\n",
    "y=3\n",
    "z=6\n",
    "\n",
    "print (x*y*z)"
   ]
  },
  {
   "cell_type": "code",
   "execution_count": 33,
   "id": "4ffdd7a9",
   "metadata": {},
   "outputs": [
    {
     "name": "stdout",
     "output_type": "stream",
     "text": [
      "Enter the value of n:8\n",
      "{1: 1, 2: 4, 3: 9, 4: 16, 5: 25, 6: 36, 7: 49, 8: 64}\n"
     ]
    }
   ],
   "source": [
    "n= int(input(\"Enter the value of n:\"))\n",
    "dictionary = {i : i*i for i in range (1, n+1)}\n",
    "print (dictionary)\n"
   ]
  },
  {
   "cell_type": "code",
   "execution_count": 8,
   "id": "5bdcf993",
   "metadata": {},
   "outputs": [
    {
     "name": "stdout",
     "output_type": "stream",
     "text": [
      "[(2, 1), (1, 2), (2, 3), (2, 5)]\n"
     ]
    }
   ],
   "source": [
    "def last(n):\n",
    "    return n[1]\n",
    "def sort_list_last(tuples):\n",
    "    return sorted(tuples, key=last)\n",
    "\n",
    "print (sort_list_last([(2, 5), (1,2), (2,3), (2,1)]))"
   ]
  },
  {
   "cell_type": "code",
   "execution_count": 29,
   "id": "0f92c301",
   "metadata": {},
   "outputs": [
    {
     "name": "stdout",
     "output_type": "stream",
     "text": [
      "[('item3', '24.5'), ('item2', '15.10'), ('item', '12.20')]\n"
     ]
    }
   ],
   "source": [
    "tuple = [('item', '12.20'), ('item2', '15.10'), ('item3', '24.5')]\n",
    "print( sorted (tuple, key = lambda x: float(x[1]), reverse =True))"
   ]
  },
  {
   "cell_type": "code",
   "execution_count": 35,
   "id": "df7b0840",
   "metadata": {},
   "outputs": [
    {
     "ename": "IndentationError",
     "evalue": "expected an indented block (Temp/ipykernel_10216/2708500318.py, line 8)",
     "output_type": "error",
     "traceback": [
      "\u001b[1;36m  File \u001b[1;32m\"C:\\Users\\User\\AppData\\Local\\Temp/ipykernel_10216/2708500318.py\"\u001b[1;36m, line \u001b[1;32m8\u001b[0m\n\u001b[1;33m    pass\u001b[0m\n\u001b[1;37m        ^\u001b[0m\n\u001b[1;31mIndentationError\u001b[0m\u001b[1;31m:\u001b[0m expected an indented block\n"
     ]
    }
   ],
   "source": [
    "d1 = {'a': 100, 'b':200, 'c':300}\n",
    "d2 ={'a': 300, 'b':200, 'd':400}\n",
    "\n",
    "for key in d2:\n",
    "    if key in d1:\n",
    "        d2[key] = d2[key] + d1[key]\n",
    "    else:\n",
    "pass\n",
    "res = d1|d2\n",
    "print(res)                           ]"
   ]
  },
  {
   "cell_type": "code",
   "execution_count": null,
   "id": "0acd8616",
   "metadata": {},
   "outputs": [],
   "source": []
  },
  {
   "cell_type": "code",
   "execution_count": null,
   "id": "8feeb415",
   "metadata": {},
   "outputs": [],
   "source": []
  }
 ],
 "metadata": {
  "kernelspec": {
   "display_name": "Python 3 (ipykernel)",
   "language": "python",
   "name": "python3"
  },
  "language_info": {
   "codemirror_mode": {
    "name": "ipython",
    "version": 3
   },
   "file_extension": ".py",
   "mimetype": "text/x-python",
   "name": "python",
   "nbconvert_exporter": "python",
   "pygments_lexer": "ipython3",
   "version": "3.9.7"
  }
 },
 "nbformat": 4,
 "nbformat_minor": 5
}
